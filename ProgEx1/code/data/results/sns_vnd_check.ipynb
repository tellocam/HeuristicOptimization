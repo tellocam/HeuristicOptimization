{
 "cells": [
  {
   "cell_type": "code",
   "execution_count": 1,
   "metadata": {},
   "outputs": [
    {
     "name": "stdout",
     "output_type": "stream",
     "text": [
      "relative time diffs\n"
     ]
    },
    {
     "data": {
      "text/plain": [
       "../data/datasets/inst_test/heur002_n_100_m_3274.txt    NaN\n",
       "../data/datasets/inst_test/heur003_n_120_m_2588.txt    NaN\n",
       "../data/datasets/inst_test/heur004_n_140_m_3014.txt    NaN\n",
       "../data/datasets/inst_test/heur005_n_160_m_4015.txt    NaN\n",
       "../data/datasets/inst_test/heur006_n_180_m_6067.txt    NaN\n",
       "../data/datasets/inst_test/heur007_n_200_m_6731.txt    NaN\n",
       "../data/datasets/inst_test/heur008_n_250_m_1045.txt    NaN\n",
       "../data/datasets/inst_test/heur009_n_250_m_1450.txt    NaN\n",
       "../data/datasets/inst_test/heur010_n_250_m_4507.txt    NaN\n",
       "../data/datasets/inst_test/heur011_n_250_m_6574.txt    NaN\n",
       "../data/datasets/inst_test/heur012_n_250_m_20035.txt   NaN\n",
       "../data/datasets/inst_test/heur013_n_250_m_22395.txt   NaN\n",
       "../data/datasets/inst_test/heur014_n_300_m_14191.txt   NaN\n",
       "../data/datasets/inst_test/heur015_n_300_m_15035.txt   NaN\n",
       "../data/datasets/inst_test/heur016_n_300_m_15456.txt   NaN\n",
       "../data/datasets/inst_test/heur017_n_300_m_15641.txt   NaN\n",
       "../data/datasets/inst_test/heur018_n_300_m_25919.txt   NaN\n",
       "../data/datasets/inst_test/heur019_n_300_m_28765.txt   NaN\n",
       "../data/datasets/inst_test/heur020_n_320_m_5905.txt    NaN\n",
       "../data/datasets/inst_test/heur021_n_320_m_13507.txt   NaN\n",
       "../data/datasets/inst_test/heur022_n_322_m_14226.txt   NaN\n",
       "../data/datasets/inst_test/heur023_n_329_m_16183.txt   NaN\n",
       "../data/datasets/inst_test/heur024_n_329_m_27115.txt   NaN\n",
       "../data/datasets/inst_test/heur025_n_329_m_32168.txt   NaN\n",
       "../data/datasets/inst_test/heur026_n_330_m_1370.txt    NaN\n",
       "../data/datasets/inst_test/heur027_n_330_m_2256.txt    NaN\n",
       "test/heur003_n_120_m_2588.txt                          NaN\n",
       "test/heur004_n_140_m_3014.txt                          NaN\n",
       "test/heur005_n_160_m_4015.txt                          NaN\n",
       "test/heur006_n_180_m_6067.txt                          NaN\n",
       "test/heur007_n_200_m_6731.txt                          NaN\n",
       "test/heur008_n_250_m_1045.txt                          NaN\n",
       "test/heur009_n_250_m_1450.txt                          NaN\n",
       "test/heur010_n_250_m_4507.txt                          NaN\n",
       "test/heur011_n_250_m_6574.txt                          NaN\n",
       "test/heur012_n_250_m_20035.txt                         NaN\n",
       "test/heur013_n_250_m_22395.txt                         NaN\n",
       "test/heur014_n_300_m_14191.txt                         NaN\n",
       "test/heur015_n_300_m_15035.txt                         NaN\n",
       "test/heur016_n_300_m_15456.txt                         NaN\n",
       "test/heur017_n_300_m_15641.txt                         NaN\n",
       "test/heur018_n_300_m_25919.txt                         NaN\n",
       "test/heur019_n_300_m_28765.txt                         NaN\n",
       "test/heur020_n_320_m_5905.txt                          NaN\n",
       "test/heur021_n_320_m_13507.txt                         NaN\n",
       "test/heur022_n_322_m_14226.txt                         NaN\n",
       "test/heur023_n_329_m_16183.txt                         NaN\n",
       "test/heur024_n_329_m_27115.txt                         NaN\n",
       "test/heur025_n_329_m_32168.txt                         NaN\n",
       "test/heur026_n_330_m_1370.txt                          NaN\n",
       "test/heur027_n_330_m_2256.txt                          NaN\n",
       "test/heur028_n_330_m_3253.txt                          NaN\n",
       "Name: time, dtype: float64"
      ]
     },
     "metadata": {},
     "output_type": "display_data"
    },
    {
     "name": "stdout",
     "output_type": "stream",
     "text": [
      "relative val diffs\n"
     ]
    },
    {
     "data": {
      "text/plain": [
       "../data/datasets/inst_test/heur002_n_100_m_3274.txt    NaN\n",
       "../data/datasets/inst_test/heur003_n_120_m_2588.txt    NaN\n",
       "../data/datasets/inst_test/heur004_n_140_m_3014.txt    NaN\n",
       "../data/datasets/inst_test/heur005_n_160_m_4015.txt    NaN\n",
       "../data/datasets/inst_test/heur006_n_180_m_6067.txt    NaN\n",
       "../data/datasets/inst_test/heur007_n_200_m_6731.txt    NaN\n",
       "../data/datasets/inst_test/heur008_n_250_m_1045.txt    NaN\n",
       "../data/datasets/inst_test/heur009_n_250_m_1450.txt    NaN\n",
       "../data/datasets/inst_test/heur010_n_250_m_4507.txt    NaN\n",
       "../data/datasets/inst_test/heur011_n_250_m_6574.txt    NaN\n",
       "../data/datasets/inst_test/heur012_n_250_m_20035.txt   NaN\n",
       "../data/datasets/inst_test/heur013_n_250_m_22395.txt   NaN\n",
       "../data/datasets/inst_test/heur014_n_300_m_14191.txt   NaN\n",
       "../data/datasets/inst_test/heur015_n_300_m_15035.txt   NaN\n",
       "../data/datasets/inst_test/heur016_n_300_m_15456.txt   NaN\n",
       "../data/datasets/inst_test/heur017_n_300_m_15641.txt   NaN\n",
       "../data/datasets/inst_test/heur018_n_300_m_25919.txt   NaN\n",
       "../data/datasets/inst_test/heur019_n_300_m_28765.txt   NaN\n",
       "../data/datasets/inst_test/heur020_n_320_m_5905.txt    NaN\n",
       "../data/datasets/inst_test/heur021_n_320_m_13507.txt   NaN\n",
       "../data/datasets/inst_test/heur022_n_322_m_14226.txt   NaN\n",
       "../data/datasets/inst_test/heur023_n_329_m_16183.txt   NaN\n",
       "../data/datasets/inst_test/heur024_n_329_m_27115.txt   NaN\n",
       "../data/datasets/inst_test/heur025_n_329_m_32168.txt   NaN\n",
       "../data/datasets/inst_test/heur026_n_330_m_1370.txt    NaN\n",
       "../data/datasets/inst_test/heur027_n_330_m_2256.txt    NaN\n",
       "test/heur003_n_120_m_2588.txt                          NaN\n",
       "test/heur004_n_140_m_3014.txt                          NaN\n",
       "test/heur005_n_160_m_4015.txt                          NaN\n",
       "test/heur006_n_180_m_6067.txt                          NaN\n",
       "test/heur007_n_200_m_6731.txt                          NaN\n",
       "test/heur008_n_250_m_1045.txt                          NaN\n",
       "test/heur009_n_250_m_1450.txt                          NaN\n",
       "test/heur010_n_250_m_4507.txt                          NaN\n",
       "test/heur011_n_250_m_6574.txt                          NaN\n",
       "test/heur012_n_250_m_20035.txt                         NaN\n",
       "test/heur013_n_250_m_22395.txt                         NaN\n",
       "test/heur014_n_300_m_14191.txt                         NaN\n",
       "test/heur015_n_300_m_15035.txt                         NaN\n",
       "test/heur016_n_300_m_15456.txt                         NaN\n",
       "test/heur017_n_300_m_15641.txt                         NaN\n",
       "test/heur018_n_300_m_25919.txt                         NaN\n",
       "test/heur019_n_300_m_28765.txt                         NaN\n",
       "test/heur020_n_320_m_5905.txt                          NaN\n",
       "test/heur021_n_320_m_13507.txt                         NaN\n",
       "test/heur022_n_322_m_14226.txt                         NaN\n",
       "test/heur023_n_329_m_16183.txt                         NaN\n",
       "test/heur024_n_329_m_27115.txt                         NaN\n",
       "test/heur025_n_329_m_32168.txt                         NaN\n",
       "test/heur026_n_330_m_1370.txt                          NaN\n",
       "test/heur027_n_330_m_2256.txt                          NaN\n",
       "test/heur028_n_330_m_3253.txt                          NaN\n",
       "Name: obj_val, dtype: float64"
      ]
     },
     "metadata": {},
     "output_type": "display_data"
    }
   ],
   "source": [
    "import os\n",
    "import pandas as pd\n",
    "\n",
    "sns = pd.read_csv(\"full_run_sns.csv\")\n",
    "files = sns[\"filename\"]\n",
    "sns = sns.iloc[0:26]\n",
    "vnd = pd.read_csv(\"full_run_vnd.csv\")\n",
    "vnd = vnd.iloc[0:26]\n",
    "rel_time_diffs = (vnd[\"time\"] - sns[\"time\"])\n",
    "rel_val_diffs = (vnd[\"obj_val\"] - sns[\"obj_val\"])\n",
    "print(\"relative time diffs\")\n",
    "display(rel_time_diffs)\n",
    "print(\"relative val diffs\")\n",
    "display(rel_val_diffs)"
   ]
  }
 ],
 "metadata": {
  "kernelspec": {
   "display_name": "Python 3",
   "language": "python",
   "name": "python3"
  },
  "language_info": {
   "codemirror_mode": {
    "name": "ipython",
    "version": 3
   },
   "file_extension": ".py",
   "mimetype": "text/x-python",
   "name": "python",
   "nbconvert_exporter": "python",
   "pygments_lexer": "ipython3",
   "version": "3.8.10"
  }
 },
 "nbformat": 4,
 "nbformat_minor": 2
}
