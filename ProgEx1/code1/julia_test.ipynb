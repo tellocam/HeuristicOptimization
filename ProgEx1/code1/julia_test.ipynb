{
 "cells": [
  {
   "cell_type": "code",
   "execution_count": 1,
   "metadata": {},
   "outputs": [
    {
     "ename": "LoadError",
     "evalue": "LoadError: UndefVarError: `readGraphFile` not defined\nin expression starting at /home/tellocam/CSE/HeuristicOptimization/ProgEx1/code1/ds.jl:135",
     "output_type": "error",
     "traceback": [
      "LoadError: UndefVarError: `readGraphFile` not defined\n",
      "in expression starting at /home/tellocam/CSE/HeuristicOptimization/ProgEx1/code1/ds.jl:135\n",
      "\n",
      "Stacktrace:\n",
      " [1] top-level scope\n",
      "   @ ~/CSE/HeuristicOptimization/ProgEx1/code1/ds.jl:135"
     ]
    }
   ],
   "source": [
    "include(\"ds.jl\")"
   ]
  },
  {
   "cell_type": "code",
   "execution_count": 2,
   "metadata": {},
   "outputs": [
    {
     "ename": "UndefVarError",
     "evalue": "UndefVarError: `read_instance_file` not defined",
     "output_type": "error",
     "traceback": [
      "UndefVarError: `read_instance_file` not defined\n",
      "\n",
      "Stacktrace:\n",
      " [1] top-level scope\n",
      "   @ ~/CSE/HeuristicOptimization/ProgEx1/code1/julia_test.ipynb:2"
     ]
    }
   ],
   "source": [
    "file_path = \"datasets/inst_test/heur001_n_10_m_31.txt\"\n",
    "G = read_instance_file(file_path)"
   ]
  },
  {
   "cell_type": "code",
   "execution_count": 3,
   "metadata": {},
   "outputs": [
    {
     "ename": "UndefVarError",
     "evalue": "UndefVarError: `G` not defined",
     "output_type": "error",
     "traceback": [
      "UndefVarError: `G` not defined\n",
      "\n",
      "Stacktrace:\n",
      " [1] top-level scope\n",
      "   @ ~/CSE/HeuristicOptimization/ProgEx1/code1/julia_test.ipynb:1"
     ]
    }
   ],
   "source": [
    "display(G.A0)"
   ]
  }
 ],
 "metadata": {
  "kernelspec": {
   "display_name": "Julia 1.9.3",
   "language": "julia",
   "name": "julia-1.9"
  },
  "language_info": {
   "file_extension": ".jl",
   "mimetype": "application/julia",
   "name": "julia",
   "version": "1.9.3"
  }
 },
 "nbformat": 4,
 "nbformat_minor": 2
}
