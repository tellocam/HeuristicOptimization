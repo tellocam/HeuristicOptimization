{
 "cells": [
  {
   "cell_type": "code",
   "execution_count": 1,
   "metadata": {},
   "outputs": [
    {
     "data": {
      "text/plain": [
       "read_instance_file (generic function with 1 method)"
      ]
     },
     "metadata": {},
     "output_type": "display_data"
    }
   ],
   "source": [
    "include(\"dataStructures.jl\")"
   ]
  },
  {
   "cell_type": "code",
   "execution_count": 2,
   "metadata": {},
   "outputs": [
    {
     "data": {
      "text/plain": [
       "graphData(10, 31, 45, Int8[0 1 … 1 0; 1 0 … 1 0; … ; 1 1 … 0 1; 0 0 … 1 0], Int8[0 1 … 1 0; 1 0 … 1 0; … ; 1 1 … 0 1; 0 0 … 1 0], Int8[0 4 … 3 2; 4 0 … 2 1; … ; 3 2 … 0 5; 2 1 … 5 0])"
      ]
     },
     "metadata": {},
     "output_type": "display_data"
    }
   ],
   "source": [
    "file_path = \"datasets/inst_test/heur001_n_10_m_31.txt\"\n",
    "G = read_instance_file(file_path)"
   ]
  },
  {
   "cell_type": "code",
   "execution_count": 4,
   "metadata": {},
   "outputs": [
    {
     "data": {
      "text/plain": [
       "10×10 Symmetric{Int8, Matrix{Int8}}:\n",
       " 0  1  1  1  1  1  1  1  1  0\n",
       " 1  0  1  1  1  1  0  0  1  0\n",
       " 1  1  0  1  1  1  0  0  1  1\n",
       " 1  1  1  0  1  1  1  0  0  1\n",
       " 1  1  1  1  0  1  0  0  0  1\n",
       " 1  1  1  1  1  0  0  0  0  1\n",
       " 1  0  0  1  0  0  0  1  1  1\n",
       " 1  0  0  0  0  0  1  0  1  1\n",
       " 1  1  1  0  0  0  1  1  0  1\n",
       " 0  0  1  1  1  1  1  1  1  0"
      ]
     },
     "metadata": {},
     "output_type": "display_data"
    }
   ],
   "source": [
    "display(G.A0)"
   ]
  }
 ],
 "metadata": {
  "kernelspec": {
   "display_name": "Julia 1.9.3",
   "language": "julia",
   "name": "julia-1.9"
  },
  "language_info": {
   "file_extension": ".jl",
   "mimetype": "application/julia",
   "name": "julia",
   "version": "1.9.3"
  }
 },
 "nbformat": 4,
 "nbformat_minor": 2
}
